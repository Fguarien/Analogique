{
  "nbformat": 4,
  "nbformat_minor": 0,
  "metadata": {
    "colab": {
      "provenance": [],
      "authorship_tag": "ABX9TyMfyHvg6w171CeSXSO/3X5W",
      "include_colab_link": true
    },
    "kernelspec": {
      "name": "python3",
      "display_name": "Python 3"
    },
    "language_info": {
      "name": "python"
    }
  },
  "cells": [
    {
      "cell_type": "markdown",
      "metadata": {
        "id": "view-in-github",
        "colab_type": "text"
      },
      "source": [
        "<a href=\"https://colab.research.google.com/github/Fguarien/Analogique/blob/master/urllookup.ipynb\" target=\"_parent\"><img src=\"https://colab.research.google.com/assets/colab-badge.svg\" alt=\"Open In Colab\"/></a>"
      ]
    },
    {
      "cell_type": "markdown",
      "source": [
        "Étape 1 : Importer les Bibliothèques Nécessaires"
      ],
      "metadata": {
        "id": "EwbDkd5KU1_5"
      }
    },
    {
      "cell_type": "code",
      "execution_count": 10,
      "metadata": {
        "id": "Cd-Hl1npUzuk"
      },
      "outputs": [],
      "source": [
        "import pandas as pd\n",
        "import requests\n",
        "import json\n",
        "import time\n",
        "import logging\n",
        "from itertools import islice\n"
      ]
    },
    {
      "cell_type": "markdown",
      "source": [
        "Étape 2 : Configurer les Logs"
      ],
      "metadata": {
        "id": "u3q5OF5nU5Ie"
      }
    },
    {
      "cell_type": "code",
      "source": [
        "# Configurer les logs\n",
        "logging.basicConfig(level=logging.INFO, format='%(asctime)s - %(levelname)s - %(message)s')\n",
        "logger = logging.getLogger()\n"
      ],
      "metadata": {
        "id": "fGCNf1KYU7--"
      },
      "execution_count": 11,
      "outputs": []
    },
    {
      "cell_type": "markdown",
      "source": [
        "Étape 3 : Charger les URLs depuis un Fichier CSV et Remplacer les Wildcards"
      ],
      "metadata": {
        "id": "BELddSjJU_S-"
      }
    },
    {
      "cell_type": "code",
      "source": [
        "# Charger le fichier CSV\n",
        "file_name = 'netskope_skopeit_alerts_08-26-2024.csv'  # Remplacez par le nom de votre fichier\n",
        "logger.info(\"Chargement du fichier CSV.\")\n",
        "url_data = pd.read_csv(file_name)\n",
        "\n",
        "# Suppression des doublons\n",
        "url_data.drop_duplicates(subset='URL', inplace=True)\n",
        "logger.info(f\"Nombre d'URLs après suppression des doublons: {len(url_data)}\")\n",
        "\n",
        "# Remplacer les wildcards \"*.\" par le domaine principal\n",
        "def replace_wildcard(url):\n",
        "    if url.startswith('*.'):\n",
        "        return url.replace('*.', '')\n",
        "    return url\n",
        "\n",
        "url_data['URL'] = url_data['URL'].apply(replace_wildcard)\n",
        "logger.info(\"Remplacement des wildcards par les domaines principaux terminé.\")\n",
        "\n",
        "# Extraire la liste des URLs\n",
        "urls = url_data['URL'].tolist()\n"
      ],
      "metadata": {
        "id": "Kt2ngAUFVAPk"
      },
      "execution_count": 12,
      "outputs": []
    },
    {
      "cell_type": "markdown",
      "source": [
        "Étape 4 : Diviser les URLs en Lots de 100"
      ],
      "metadata": {
        "id": "ynf5EWkiVDNu"
      }
    },
    {
      "cell_type": "code",
      "source": [
        "def chunk_urls(url_list, chunk_size=100):\n",
        "    \"\"\"Diviser la liste des URLs en morceaux de taille chunk_size.\"\"\"\n",
        "    for i in range(0, len(url_list), chunk_size):\n",
        "        yield url_list[i:i + chunk_size]\n",
        "\n",
        "# Diviser les URLs en lots de 100\n",
        "url_chunks = list(chunk_urls(urls, 100))\n",
        "logger.info(f\"Nombre de lots d'URLs à traiter: {len(url_chunks)}\")\n"
      ],
      "metadata": {
        "id": "LOZGX6LBVEK2"
      },
      "execution_count": 13,
      "outputs": []
    },
    {
      "cell_type": "markdown",
      "source": [
        "Étape 5 : Définir la Fonction de Requête API avec Gestion des Erreurs et Limite de Requêtes"
      ],
      "metadata": {
        "id": "c336RTmfVGap"
      }
    },
    {
      "cell_type": "code",
      "source": [
        "# Adresse API de Netskope\n",
        "api_url = \"https://sitb-mivb.eu.goskope.com/api/v2/nsiq/urllookup\"\n",
        "\n",
        "# Remplacez par votre token d'autorisation\n",
        "api_token = '1aebabf6eb47804ae59ddaaafc23d101'\n",
        "\n",
        "def get_url_categories(urls):\n",
        "    \"\"\"Envoyer une requête à l'API Netskope pour obtenir les catégories des URLs.\"\"\"\n",
        "    headers = {\n",
        "      'accept': 'application/json',\n",
        "      'Content-Type': 'application/json',\n",
        "      'Netskope-Api-Token': api_token  # Ajout du token d'autorisation\n",
        "    }\n",
        "    data = {\n",
        "        \"query\": {\n",
        "          \"disable_dns_lookup\": True,\n",
        "          \"urls\": urls\n",
        "  }\n",
        "    }\n",
        "\n",
        "    try:\n",
        "        response = requests.post(api_url, headers=headers, json=data, timeout=10)\n",
        "\n",
        "        if response.status_code == 200:\n",
        "            logger.info(f\"Requête réussie pour {len(urls)} URLs.\")\n",
        "            return response.json()  # Renvoie la réponse en JSON\n",
        "        else:\n",
        "            logger.error(f\"Erreur lors de la requête : {response.status_code} - {response.text}\")\n",
        "            return None\n",
        "\n",
        "    except requests.exceptions.RequestException as e:\n",
        "        logger.error(f\"Exception lors de la requête : {e}\")\n",
        "        return None\n"
      ],
      "metadata": {
        "id": "d_F7T0FPVHV6"
      },
      "execution_count": 31,
      "outputs": []
    },
    {
      "cell_type": "markdown",
      "source": [
        "Étape 6 : Envoyer les Requêtes et Collecter les Résultats avec Limite de 4 Requêtes par Seconde"
      ],
      "metadata": {
        "id": "XzjkGVPhVJ4e"
      }
    },
    {
      "cell_type": "code",
      "source": [
        "all_results = []\n",
        "\n",
        "for i, chunk in enumerate(url_chunks):\n",
        "    result = get_url_categories(chunk)\n",
        "    if result:\n",
        "        all_results.extend(result)  # Ajouter les résultats au tableau global\n",
        "\n",
        "    logger.info(f\"Traitement du lot {i+1}/{len(url_chunks)} terminé.\")\n",
        "\n",
        "    # Limiter à 4 requêtes par seconde\n",
        "    if i % 4 == 3:  # Après chaque groupe de 4 requêtes\n",
        "        time.sleep(1.5)  # Attendre 1.5 secondes avant de continuer\n",
        "    else:\n",
        "        time.sleep(0.25)  # Attendre 0.25 seconde pour les autres requêtes\n"
      ],
      "metadata": {
        "colab": {
          "base_uri": "https://localhost:8080/"
        },
        "id": "YXT0WM9bVLhm",
        "outputId": "9e8d17d9-9318-492b-8a78-2abef1949acc"
      },
      "execution_count": 32,
      "outputs": [
        {
          "output_type": "stream",
          "name": "stderr",
          "text": [
            "ERROR:root:Exception lors de la requête : HTTPSConnectionPool(host='sitb-mivb.eu.goskope.com', port=443): Max retries exceeded with url: /api/v2/nsiq/urllookup (Caused by NameResolutionError(\"<urllib3.connection.HTTPSConnection object at 0x78efecc50220>: Failed to resolve 'sitb-mivb.eu.goskope.com' ([Errno -2] Name or service not known)\"))\n",
            "ERROR:root:Exception lors de la requête : HTTPSConnectionPool(host='sitb-mivb.eu.goskope.com', port=443): Max retries exceeded with url: /api/v2/nsiq/urllookup (Caused by NameResolutionError(\"<urllib3.connection.HTTPSConnection object at 0x78efecc53af0>: Failed to resolve 'sitb-mivb.eu.goskope.com' ([Errno -2] Name or service not known)\"))\n",
            "ERROR:root:Exception lors de la requête : HTTPSConnectionPool(host='sitb-mivb.eu.goskope.com', port=443): Max retries exceeded with url: /api/v2/nsiq/urllookup (Caused by NameResolutionError(\"<urllib3.connection.HTTPSConnection object at 0x78efea87c580>: Failed to resolve 'sitb-mivb.eu.goskope.com' ([Errno -2] Name or service not known)\"))\n",
            "ERROR:root:Exception lors de la requête : HTTPSConnectionPool(host='sitb-mivb.eu.goskope.com', port=443): Max retries exceeded with url: /api/v2/nsiq/urllookup (Caused by NameResolutionError(\"<urllib3.connection.HTTPSConnection object at 0x78efecc53b80>: Failed to resolve 'sitb-mivb.eu.goskope.com' ([Errno -2] Name or service not known)\"))\n",
            "ERROR:root:Exception lors de la requête : HTTPSConnectionPool(host='sitb-mivb.eu.goskope.com', port=443): Max retries exceeded with url: /api/v2/nsiq/urllookup (Caused by NameResolutionError(\"<urllib3.connection.HTTPSConnection object at 0x78efecf2edd0>: Failed to resolve 'sitb-mivb.eu.goskope.com' ([Errno -2] Name or service not known)\"))\n"
          ]
        }
      ]
    },
    {
      "cell_type": "markdown",
      "source": [
        "Étape 7 : Sauvegarder les Résultats"
      ],
      "metadata": {
        "id": "CGPKkKZkVN9d"
      }
    },
    {
      "cell_type": "code",
      "source": [
        "# Convertir les résultats en DataFrame\n",
        "results_df = pd.DataFrame(all_results)\n",
        "\n",
        "# Sauvegarder les résultats dans un fichier CSV\n",
        "results_df.to_csv('url_categories_results.csv', index=False)\n",
        "\n",
        "# Télécharger le fichier généré (si exécuté dans Google Colab)\n",
        "files.download('url_categories_results.csv')\n",
        "logger.info(\"Résultats sauvegardés dans 'url_categories_results.csv' et téléchargement initié.\")\n"
      ],
      "metadata": {
        "id": "8-uOoZ68VOxY"
      },
      "execution_count": null,
      "outputs": []
    },
    {
      "cell_type": "markdown",
      "source": [
        "Logs :\n",
        "\n",
        "Utilisation de logging pour suivre les étapes du traitement, incluant les informations sur les requêtes réussies et les erreurs rencontrées.\n",
        "Gestion des Erreurs :\n",
        "\n",
        "Les exceptions liées aux requêtes sont capturées et loggées avec requests.exceptions.RequestException.\n",
        "Les erreurs de réponse non 200 OK sont également loggées pour permettre un suivi précis des problèmes.\n",
        "Limite de Requêtes :\n",
        "\n",
        "La limite de 4 requêtes par seconde est gérée par des sleep de 0.25 seconde entre les requêtes et un sleep de 1.5 secondes après chaque 4 requêtes pour assurer le respect des limites.\n",
        "Rapports de Progression :\n",
        "\n",
        "Les logs fournissent un suivi détaillé des lots d'URLs traités, ce qui est utile pour diagnostiquer où le processus pourrait ralentir ou échouer."
      ],
      "metadata": {
        "id": "RDPsGD2bVSFu"
      }
    },
    {
      "cell_type": "markdown",
      "source": [
        "Annexe 1: Test Swagger"
      ],
      "metadata": {
        "id": "JGEPUIe6iBXH"
      }
    },
    {
      "cell_type": "code",
      "source": [
        "import requests\n",
        "\n",
        "# URL de l'API\n",
        "url = 'https://stib-mivb.eu.goskope.com/api/v2/nsiq/urllookup'\n",
        "\n",
        "# Remplacez par votre token d'autorisation\n",
        "api_token = '1aebabf6eb47804ae59ddaaafc23d101'\n",
        "\n",
        "# En-têtes de la requête\n",
        "headers = {\n",
        "    'accept': 'application/json',\n",
        "    'Content-Type': 'application/json',\n",
        "    'Netskope-Api-Token': api_token  # Ajout du token d'autorisation\n",
        "}\n",
        "\n",
        "# Corps de la requête\n",
        "data = {\n",
        "    \"query\": {\n",
        "        \"disable_dns_lookup\": True,\n",
        "        \"urls\": [\n",
        "            \"https://www.netskope.com\",\n",
        "            \"https://www.google.com\",\n",
        "            \"https://www.airbnb.com\"\n",
        "        ]\n",
        "    }\n",
        "}\n",
        "\n",
        "# Envoi de la requête POST\n",
        "response = requests.post(url, headers=headers, json=data)\n",
        "\n",
        "# Check the HTTP status code\n",
        "if response.status_code == 200:\n",
        "    # Successful response, proceed to decode JSON\n",
        "    print(response.json())\n",
        "else:\n",
        "    # Handle non-200 responses\n",
        "    print(f\"Request failed with status code: {response.status_code}\")\n",
        "    print(response.text)  # Print the raw response content for debugging\n"
      ],
      "metadata": {
        "id": "lzoNmWkKcogc"
      },
      "execution_count": null,
      "outputs": []
    }
  ]
}